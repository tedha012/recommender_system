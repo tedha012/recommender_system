{
 "cells": [
  {
   "cell_type": "code",
   "execution_count": 1,
   "metadata": {},
   "outputs": [],
   "source": [
    "import numpy as np\n",
    "import pandas as pd"
   ]
  },
  {
   "cell_type": "code",
   "execution_count": 2,
   "metadata": {},
   "outputs": [],
   "source": [
    "# 데이터 읽어 오기\n",
    "u_cols = [\n",
    "    \"user_id\",\n",
    "    \"age\",\n",
    "    \"sex\",\n",
    "    \"occupation\",\n",
    "    \"zip_code\",\n",
    "]\n",
    "users = pd.read_csv(\n",
    "    \"./data/u.user\",\n",
    "    sep=\"|\",\n",
    "    names=u_cols,\n",
    "    encoding=\"latin-1\",\n",
    ")\n",
    "i_cols = [\n",
    "    \"movie_id\",\n",
    "    \"title\",\n",
    "    \"release date\",\n",
    "    \"video release date\",\n",
    "    \"IMDB URL\",\n",
    "    \"unknown\",\n",
    "    \"Action\",\n",
    "    \"Adventure\",\n",
    "    \"Animation\",\n",
    "    \"Children's\",\n",
    "    \"Comedy\",\n",
    "    \"Crime\",\n",
    "    \"Documentary\",\n",
    "    \"Drama\",\n",
    "    \"Fantasy\",\n",
    "    \"Film-Noir\",\n",
    "    \"Horror\",\n",
    "    \"Musical\",\n",
    "    \"Mystery\",\n",
    "    \"Romance\",\n",
    "    \"Sci-Fi\",\n",
    "    \"Thriller\",\n",
    "    \"War\",\n",
    "    \"Western\",\n",
    "]\n",
    "movies = pd.read_csv(\n",
    "    \"./data/u.item\",\n",
    "    sep=\"|\",\n",
    "    names=i_cols,\n",
    "    encoding=\"latin-1\",\n",
    ")\n",
    "r_cols = [\n",
    "    \"user_id\",\n",
    "    \"movie_id\",\n",
    "    \"rating\",\n",
    "    \"timestamp\",\n",
    "]\n",
    "ratings = pd.read_csv(\n",
    "    \"./data/u.data\",\n",
    "    sep=\"\\t\",\n",
    "    names=r_cols,\n",
    "    encoding=\"latin-1\",\n",
    ")"
   ]
  },
  {
   "cell_type": "code",
   "execution_count": 3,
   "metadata": {},
   "outputs": [],
   "source": [
    "# timestamp 제거\n",
    "ratings = ratings.drop('timestamp', axis=1)\n",
    "\n",
    "# movie ID와 title 빼고 다른 데이터 제거\n",
    "movies = movies[['movie_id','title']]"
   ]
  },
  {
   "cell_type": "code",
   "execution_count": 5,
   "metadata": {},
   "outputs": [],
   "source": [
    "from sklearn.model_selection import train_test_split\n",
    "\n",
    "# train, test seperate\n",
    "X = ratings.copy()\n",
    "y = ratings['user_id']\n",
    "X_train, X_test, y_train, y_train = train_test_split(X, y, test_size=0.25, stratify=y)"
   ]
  },
  {
   "cell_type": "code",
   "execution_count": 6,
   "metadata": {},
   "outputs": [],
   "source": [
    "# 정확도(RMSE)를 계산하는 함수\n",
    "def RMSE(y_true, y_pred):\n",
    "  return np.sqrt(np.mean((np.array(y_true) - np.array(y_pred))**2))"
   ]
  },
  {
   "cell_type": "code",
   "execution_count": 8,
   "metadata": {},
   "outputs": [],
   "source": [
    "# 모델별 RMSE를 계산하는 함수\n",
    "def score(model):\n",
    "  id_pairs = zip(X_test['user_id'], X_test['movie_id'])\n",
    "  y_pred = np.array([model(user, movie) for (user, movie) in id_pairs])\n",
    "  y_true = np.array(X_test['rationg'])\n",
    "  return RMSE(y_true, y_pred)"
   ]
  },
  {
   "cell_type": "code",
   "execution_count": null,
   "metadata": {},
   "outputs": [],
   "source": [
    "# train 데이터로 Full matrix 구하기\n",
    "rating_matrix = X_train.pivot(index='user_id', columns='movie_id', values='rating')"
   ]
  }
 ],
 "metadata": {
  "kernelspec": {
   "display_name": "Python 3.10.8 64-bit",
   "language": "python",
   "name": "python3"
  },
  "language_info": {
   "codemirror_mode": {
    "name": "ipython",
    "version": 3
   },
   "file_extension": ".py",
   "mimetype": "text/x-python",
   "name": "python",
   "nbconvert_exporter": "python",
   "pygments_lexer": "ipython3",
   "version": "3.10.8"
  },
  "orig_nbformat": 4,
  "vscode": {
   "interpreter": {
    "hash": "fb4569285eef3a3450cb62085a5b1e0da4bce0af555edc33dcf29baf3acc1368"
   }
  }
 },
 "nbformat": 4,
 "nbformat_minor": 2
}
